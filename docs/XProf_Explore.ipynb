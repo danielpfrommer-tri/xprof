{
  "nbformat": 4,
  "nbformat_minor": 0,
  "metadata": {
    "colab": {
      "provenance": []
    },
    "kernelspec": {
      "name": "python3",
      "display_name": "Python 3"
    },
    "language_info": {
      "name": "python"
    }
  },
  "cells": [
    {
      "cell_type": "code",
      "execution_count": 7,
      "metadata": {
        "id": "UouZW4zcr7sY"
      },
      "outputs": [],
      "source": [
        "# Install the stable version of the profiler plugin\n",
        "!pip install -U tensorboard_plugin_profile"
      ]
    },
    {
      "cell_type": "code",
      "source": [
        "# # git clone the xprof repo so we have access to the demo data there\n",
        "# !git clone http://github.com/openxla/xprof"
      ],
      "metadata": {
        "id": "u6LAn2_VEysw"
      },
      "execution_count": 8,
      "outputs": []
    },
    {
      "cell_type": "code",
      "source": [
        "# Load the TensorBoard notebook extension.\n",
        "%load_ext tensorboard"
      ],
      "metadata": {
        "id": "talMdGsuEoGm"
      },
      "execution_count": 8,
      "outputs": []
    },
    {
      "cell_type": "code",
      "source": [
        "# Launch TensorBoard and navigate to the Profile tab to view performance profile\n",
        "%tensorboard --logdir=xprof/demo"
      ],
      "metadata": {
        "id": "6vSJOEThEoNY"
      },
      "execution_count": 8,
      "outputs": []
    }
  ]
}